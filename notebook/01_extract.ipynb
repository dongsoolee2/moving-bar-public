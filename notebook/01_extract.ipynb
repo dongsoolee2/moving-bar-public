{
 "cells": [
  {
   "cell_type": "markdown",
   "metadata": {},
   "source": [
    "## This notebook is to extract and save data into hdf5 format (using .json parameters)"
   ]
  },
  {
   "cell_type": "markdown",
   "metadata": {},
   "source": [
    "## 1. Import module, parameter file, and sorted spikes"
   ]
  },
  {
   "cell_type": "markdown",
   "metadata": {},
   "source": [
    "### 1-01. Import modules & path to .json file"
   ]
  },
  {
   "cell_type": "code",
   "execution_count": 1,
   "metadata": {},
   "outputs": [],
   "source": [
    "JSON_FILE_IDX = 10"
   ]
  },
  {
   "cell_type": "code",
   "execution_count": 2,
   "metadata": {},
   "outputs": [],
   "source": [
    "SAVE_TO_HDF5 = 1\n",
    "SAVE_SPIKES_TO_PICKLE = 0"
   ]
  },
  {
   "cell_type": "code",
   "execution_count": 3,
   "metadata": {},
   "outputs": [],
   "source": [
    "import sys\n",
    "sys.path.append('../')\n",
    "if sys.platform == 'darwin':\n",
    "    MAC0_OR_LINUX1 = 0\n",
    "else:\n",
    "    MAC0_OR_LINUX1 = 1"
   ]
  },
  {
   "cell_type": "code",
   "execution_count": 4,
   "metadata": {},
   "outputs": [],
   "source": [
    "if MAC0_OR_LINUX1 == 1:\n",
    "    home_dir = '/home'\n",
    "elif MAC0_OR_LINUX1 == 0:\n",
    "    home_dir = '/Users'\n",
    "proj_dir = home_dir + '/dlee/moving-bar/'"
   ]
  },
  {
   "cell_type": "code",
   "execution_count": 82,
   "metadata": {},
   "outputs": [
    {
     "name": "stdout",
     "output_type": "stream",
     "text": [
      "The autoreload extension is already loaded. To reload it, use:\n",
      "  %reload_ext autoreload\n"
     ]
    }
   ],
   "source": [
    "import numpy as np\n",
    "import scipy.signal\n",
    "import json\n",
    "import h5py\n",
    "import matplotlib as mpl\n",
    "import matplotlib.pyplot as plt\n",
    "\n",
    "import pyret.spiketools as spk\n",
    "import pyret.stimulustools as st\n",
    "import pyret.filtertools as ft\n",
    "import extract as ext\n",
    "import utils\n",
    "import pickle\n",
    "\n",
    "%load_ext autoreload\n",
    "%autoreload 2"
   ]
  },
  {
   "cell_type": "code",
   "execution_count": 6,
   "metadata": {},
   "outputs": [],
   "source": [
    "stim_sort_total_list = np.array(['flash_1', 'rf_wn', 'mb_ns', 'mb_ad', 'mb_da', \n",
    "                                 'mb_2ad', 'mb_4ad', 'mb_2da', 'mb_4da', 'rf_30m'])\n",
    "stim_notforsort_total_list = np.array(['line_w4', 'line_w8', 'rf_5m', 'mb', 'flash_2'])\n",
    "stim_inj_total_list = np.array(['mb_ad_ao'])"
   ]
  },
  {
   "cell_type": "code",
   "execution_count": 7,
   "metadata": {},
   "outputs": [],
   "source": [
    "fs = 10000.0    # sampling rate of data acquisition [Hz]\n",
    "fr = 1/60       # frame rate of stimulus            [Hz]"
   ]
  },
  {
   "cell_type": "markdown",
   "metadata": {},
   "source": [
    "### 1-02. Load .json file"
   ]
  },
  {
   "cell_type": "code",
   "execution_count": 8,
   "metadata": {},
   "outputs": [],
   "source": [
    "json_file_list = ['17-10-18.json', '17-10-20.json', '17-10-26.json', '17-10-26-1.json', '17-10-27.json',\n",
    "                  '17-11-06.json', '17-11-07.json', '17-11-08.json', '17-11-14.json', '17-11-14-1.json',\n",
    "                  '17-11-29.json', '18-03-12.json', '18-03-22.json', '18-03-23.json', '18-03-24.json',\n",
    "                  '18-03-24-1.json', '18-03-27.json', '18-04-23.json']\n",
    "json_file = json_file_list[JSON_FILE_IDX]\n",
    "#json_file"
   ]
  },
  {
   "cell_type": "code",
   "execution_count": 9,
   "metadata": {},
   "outputs": [],
   "source": [
    "with open(proj_dir + 'json/sort2/' + 'config.json', 'r') as js:\n",
    "    config = json.load(js)\n",
    "with open(proj_dir + 'json/sort2/' + json_file, 'r') as js:\n",
    "    p = json.load(js)\n",
    "#p"
   ]
  },
  {
   "cell_type": "code",
   "execution_count": 10,
   "metadata": {},
   "outputs": [],
   "source": [
    "data_dir = proj_dir + config['data_sort_dir']"
   ]
  },
  {
   "cell_type": "code",
   "execution_count": 11,
   "metadata": {},
   "outputs": [],
   "source": [
    "lr_idx = np.array([1, 0, 0, 1, 1, 0, 0, 1])\n",
    "rl_idx = 1 - lr_idx\n",
    "mb_idx = np.array([1, 1, 1, 1, 1])\n",
    "if p['exp_version'] == 1:\n",
    "    con_idx = np.array([1, 0, 0, 0, 0, 1, 0, 0, 0, 0, 1, 0, 0, 0, 0, 1, 0, 0, 0, 0])\n",
    "    pb1_idx = np.array([0, 1, 0, 1, 0, 0, 1, 0, 1, 0, 0, 1, 0, 1, 0, 0, 1, 0, 1, 0])\n",
    "    pb2_idx = np.array([0, 0, 1, 0, 1, 0, 0, 1, 0, 1, 0, 0, 1, 0, 1, 0, 0, 1, 0, 1])\n",
    "elif p['exp_version'] == 2:\n",
    "    con_idx = np.array([1, 0, 0, 1, 0, 0, 1, 0, 0, 1, 0, 0, 1, 0, 0, 1, 0, 0, 1, 0, 0, 1, 0, 0])\n",
    "    pb1_idx = np.array([0, 1, 0, 0, 1, 0, 0, 1, 0, 0, 1, 0, 0, 1, 0, 0, 1, 0, 0, 1, 0, 0, 1, 0])\n",
    "    pb2_idx = np.array([0, 0, 1, 0, 0, 1, 0, 0, 1, 0, 0, 1, 0, 0, 1, 0, 0, 1, 0, 0, 1, 0, 0, 1])"
   ]
  },
  {
   "cell_type": "markdown",
   "metadata": {},
   "source": [
    "### 1-03. Convert .txt file to array (spike time)"
   ]
  },
  {
   "cell_type": "code",
   "execution_count": 12,
   "metadata": {},
   "outputs": [],
   "source": [
    "spikes = ext.txt2array(data_dir + p['exp_name'] + '/' + config['sort_version'] + '/',\n",
    "                       p['sort_exp_num'] * p['g_cell_num'])\n",
    "#for i in range(len(spikes)):\n",
    "#    print(spikes[i].shape[0], end=' ')"
   ]
  },
  {
   "cell_type": "markdown",
   "metadata": {},
   "source": [
    "### 1-04. Store spikes time to each variable for sorted experiment"
   ]
  },
  {
   "cell_type": "code",
   "execution_count": 13,
   "metadata": {},
   "outputs": [
    {
     "data": {
      "text/plain": [
       "array(['flash_1', 'mb_ad', 'mb_da', 'rf_30m'], dtype='<U7')"
      ]
     },
     "execution_count": 13,
     "metadata": {},
     "output_type": "execute_result"
    }
   ],
   "source": [
    "stim_sort_total_list_idx = np.array([p[stim_sort_total_list[i]] for i in range(len(stim_sort_total_list))])\n",
    "stim_sort_list = stim_sort_total_list[stim_sort_total_list_idx==1]\n",
    "stim_sort_list"
   ]
  },
  {
   "cell_type": "code",
   "execution_count": 14,
   "metadata": {},
   "outputs": [],
   "source": [
    "for i in range(p['sort_exp_num']):\n",
    "    vars()[('spikes_' + stim_sort_list[i])] = []\n",
    "    for c in range(p['g_cell_num']):\n",
    "        vars()[('spikes_' + stim_sort_list[i])].append(spikes[c * p['sort_exp_num'] + i])"
   ]
  },
  {
   "cell_type": "markdown",
   "metadata": {},
   "source": [
    "## 2. Sorted experiment"
   ]
  },
  {
   "cell_type": "markdown",
   "metadata": {},
   "source": [
    "### 2-01. Load 'flash_1' session"
   ]
  },
  {
   "cell_type": "code",
   "execution_count": 15,
   "metadata": {},
   "outputs": [],
   "source": [
    "if p['flash_1'] == 1:\n",
    "    name_flash_1 = utils.file_name(p['exp_date'], p['retina_idx'], p['intracell_idx'], 'flash_1')\n",
    "    pd_flash_1 = ext.photodiode(data_dir + p['exp_name'] + '/' + name_flash_1)\n",
    "    elec_flash_1 = ext.electrode(data_dir + p['exp_name'] + '/' + name_flash_1)\n",
    "    \n",
    "    maxtab_flash_1, _ = spk.peakdet(pd_flash_1, p['flash_1_th'])\n",
    "    \n",
    "    elec_ext_flash_1 = ext.split_trial(elec_flash_1, maxtab_flash_1, \n",
    "                                   start=0, last=20, every=2, per=2, sample_rate=fs, mode='continuous')\n",
    "    spikes_ext_flash_1 = []\n",
    "    for cell in range(p['g_cell_num']):\n",
    "        spikes_ext_flash_1.append(ext.split_trial(spikes_flash_1[cell], maxtab_flash_1, \n",
    "                                                  start=0, last=20, every=2, per=2, sample_rate=fs, mode='discrete'))\n",
    "    tbins_flash_1 = np.arange(0, 122 * fr, fr)\n",
    "    bspk_flash_1 = np.stack([np.stack([spk.binspikes(spikes_ext_flash_1[cell][trial], tbins_flash_1) \n",
    "                                       for trial in range(10)]) \n",
    "                             for cell in range(p['g_cell_num'])])\n",
    "    stim_flash_1 = np.concatenate((np.ones(61), np.zeros(61)))\n",
    "    intra_flash_1 = ext.list_to_array(elec_ext_flash_1, ndim=1)\n",
    "else:\n",
    "    stim_flash_1 = np.nan\n",
    "    bspk_flash_1 = np.nan\n",
    "    intra_flash_1 = np.nan\n",
    "    tbins_flash_1 = np.nan"
   ]
  },
  {
   "cell_type": "markdown",
   "metadata": {},
   "source": [
    "### 2-02. Load 'rf_wn' session"
   ]
  },
  {
   "cell_type": "code",
   "execution_count": 16,
   "metadata": {},
   "outputs": [],
   "source": [
    "if p['rf_wn'] == 1:\n",
    "    name_rf_wn = utils.file_name(p['exp_date'], p['retina_idx'], p['intracell_idx'], 'rf_wn')\n",
    "    pd_rf_wn = ext.photodiode(data_dir + p['exp_name'] + '/' + name_rf_wn)\n",
    "    elec_rf_wn = ext.electrode(data_dir + p['exp_name'] + '/' + name_rf_wn)\n",
    "    \n",
    "    maxtab_rf_wn, _ = spk.peakdet(pd_rf_wn, p['rf_wn_th'])\n",
    "    \n",
    "    us_factor_rf_wn = 8\n",
    "    elec_ext_rf_wn = ext.split_trial(elec_rf_wn, maxtab_rf_wn, \n",
    "                                     start=0, last=2, every=2, per=2, sample_rate=fs, mode='continuous')\n",
    "    spikes_ext_rf_wn = []\n",
    "    for cell in range(p['g_cell_num']):\n",
    "        spikes_ext_rf_wn.append(ext.split_trial(spikes_rf_wn[cell], maxtab_rf_wn, \n",
    "                                                start=0, last=2, every=2, per=2, sample_rate=fs, mode='discrete'))\n",
    "    tbins_rf_wn = np.linspace(0, elec_ext_rf_wn[0].shape[0]/fs, us_factor_rf_wn * 9000 + 1)[:-1]\n",
    "    bspk_rf_wn = np.stack([spk.binspikes(spikes_ext_rf_wn[cell][0], tbins_rf_wn)\n",
    "                           for cell in range(p['g_cell_num'])])\n",
    "    stim_rf_wn = ext.load_stimulus('2d_st_bin_wn_w8', mode='mono', two_dim=True)[:9000, :, :]\n",
    "    \n",
    "    stim_us_rf_wn = st.upsample(stim_rf_wn, us_factor_rf_wn)[0]\n",
    "    #stim_us_rf_wn -= np.mean(stim_us_rf_wn)\n",
    "    #stim_us_rf_wn /= np.std(stim_us_rf_wn)\n",
    "    stim_us_rf_wn -= 0.5\n",
    "    stim_us_rf_wn *= 2\n",
    "    stas_rf_wn = []\n",
    "    for cell in range(p['g_cell_num']):\n",
    "        sta_rf_wn, tax_rf_wn = ft.sta(tbins_rf_wn, stim_us_rf_wn, spikes_ext_rf_wn[cell][0], us_factor_rf_wn*15)\n",
    "        stas_rf_wn.append(sta_rf_wn)\n",
    "    stim_us_rf_wn = stim_us_rf_wn.astype(int)\n",
    "else:\n",
    "    stim_us_rf_wn = np.nan\n",
    "    bspk_rf_wn = np.nan\n",
    "    inj_ext_rs_rf_wn = np.nan\n",
    "    tbins_rf_wn = np.nan"
   ]
  },
  {
   "cell_type": "markdown",
   "metadata": {},
   "source": [
    "### 2-03. Load 'mb_ns' session"
   ]
  },
  {
   "cell_type": "code",
   "execution_count": 17,
   "metadata": {},
   "outputs": [],
   "source": [
    "if p['mb_ns'] == 1:\n",
    "    name_mb_ns = utils.file_name(p['exp_date'], p['retina_idx'], p['intracell_idx'], 'mb_ns')\n",
    "    pd_mb_ns = ext.photodiode(data_dir + p['exp_name'] + '/' + name_mb_ns)\n",
    "    elec_mb_ns = ext.electrode(data_dir + p['exp_name'] + '/' + name_mb_ns)\n",
    "    \n",
    "    maxtab_mb_ns, _ = spk.peakdet(pd_mb_ns, p['mb_ns_th'])\n",
    "\n",
    "    N_mb_ns = maxtab_mb_ns.shape[0]\n",
    "    elec_ext_mb_ns = ext.split_trial(elec_mb_ns, maxtab_mb_ns, \n",
    "                                     start=0, last=N_mb_ns, every=2, per=1, \n",
    "                                     sample_rate=fs, mode='continuous')\n",
    "    spikes_ext_mb_ns = []\n",
    "    for cell in range(p['g_cell_num']):\n",
    "        spikes_ext_mb_ns.append(ext.split_trial(spikes_mb_ns[cell], maxtab_mb_ns, \n",
    "                                                start=0, last=N_mb_ns, every=2, per=1, \n",
    "                                                sample_rate=fs, mode='discrete'))\n",
    "    tbins_mb_ns = np.arange(0, 129 * fr, fr)\n",
    "    bspk_mb_ns = np.stack([np.stack([spk.binspikes(spikes_ext_mb_ns[cell][trial], tbins_mb_ns) \n",
    "                                     for trial in range(int(N_mb_ns/2))]) \n",
    "                           for cell in range(p['g_cell_num'])])\n",
    "    \n",
    "    mb_ns_amp_lr_idx = np.array([1, 0, 0, 1, 1, 0, 0, 1, 0, 0, 0, 0, 0, 0, 0, 0])\n",
    "    mb_ns_dim_lr_idx = np.array([0, 0, 0, 0, 0, 0, 0, 0, 1, 0, 0, 1, 1, 0, 0, 1])\n",
    "    mb_ns_amp_rl_idx = np.array([0, 1, 1, 0, 0, 1, 1, 0, 0, 0, 0, 0, 0, 0, 0, 0])\n",
    "    mb_ns_dim_rl_idx = np.array([0, 0, 0, 0, 0, 0, 0, 0, 0, 1, 1, 0, 0, 1, 1, 0])\n",
    "    bspk_mb_ns_amp_lr = np.transpose(np.transpose(bspk_mb_ns, [1, 2, 0])[mb_ns_amp_lr_idx == 1], [2, 0, 1])\n",
    "    bspk_mb_ns_dim_lr = np.transpose(np.transpose(bspk_mb_ns, [1, 2, 0])[mb_ns_dim_lr_idx == 1], [2, 0, 1])\n",
    "    bspk_mb_ns_amp_rl = np.transpose(np.transpose(bspk_mb_ns, [1, 2, 0])[mb_ns_amp_rl_idx == 1], [2, 0, 1])\n",
    "    bspk_mb_ns_dim_rl = np.transpose(np.transpose(bspk_mb_ns, [1, 2, 0])[mb_ns_dim_rl_idx == 1], [2, 0, 1])\n",
    "    \n",
    "    bspk_total_mb_ns = np.stack(\n",
    "        [np.stack([bspk_mb_ns_amp_lr, bspk_mb_ns_dim_lr], axis=1),\n",
    "         np.stack([bspk_mb_ns_amp_rl, bspk_mb_ns_dim_rl], axis=1)], axis=1)\n",
    "else:\n",
    "    bspk_total_mb_ns = np.nan\n",
    "    tbins_mb_ns = np.nan"
   ]
  },
  {
   "cell_type": "markdown",
   "metadata": {},
   "source": [
    "### 2-04. Load 'mb_ad' session"
   ]
  },
  {
   "cell_type": "code",
   "execution_count": 18,
   "metadata": {},
   "outputs": [],
   "source": [
    "if p['mb_ad'] == 1:\n",
    "    name_mb_ad = utils.file_name(p['exp_date'], p['retina_idx'], p['intracell_idx'], 'mb_ad')\n",
    "    pd_mb_ad = ext.photodiode(data_dir + p['exp_name'] + '/' + name_mb_ad)\n",
    "    elec_mb_ad = ext.electrode(data_dir + p['exp_name'] + '/' + name_mb_ad)\n",
    "\n",
    "    maxtab_mb_ad, _ = spk.peakdet(pd_mb_ad, p['mb_ad_th'])\n",
    "\n",
    "    N_mb_ad = maxtab_mb_ad.shape[0]\n",
    "    elec_ext_mb_ad = ext.split_trial(elec_mb_ad, maxtab_mb_ad, \n",
    "                                     start=0, last=N_mb_ad, every=2, per=1, \n",
    "                                     sample_rate=fs, mode='continuous')\n",
    "    spikes_ext_mb_ad = []\n",
    "    for cell in range(p['g_cell_num']):\n",
    "        spikes_ext_mb_ad.append(ext.split_trial(spikes_mb_ad[cell], maxtab_mb_ad, \n",
    "                                                start=0, last=N_mb_ad, every=2, per=1, \n",
    "                                                sample_rate=fs, mode='discrete'))\n",
    "    tbins_mb_ad = np.arange(0, 129 * fr, fr)\n",
    "    bspk_mb_ad = np.stack([np.stack([spk.binspikes(spikes_ext_mb_ad[cell][trial], tbins_mb_ad) \n",
    "                                     for trial in range(int(N_mb_ad/2))]) \n",
    "                           for cell in range(p['g_cell_num'])])\n",
    "\n",
    "    mb_ad_con_lr_idx = np.outer(con_idx, lr_idx).reshape(-1)\n",
    "    mb_ad_amp_lr_idx = np.outer(pb1_idx, lr_idx).reshape(-1)\n",
    "    mb_ad_dim_lr_idx = np.outer(pb2_idx, lr_idx).reshape(-1)\n",
    "    mb_ad_con_rl_idx = np.outer(con_idx, rl_idx).reshape(-1)\n",
    "    mb_ad_amp_rl_idx = np.outer(pb1_idx, rl_idx).reshape(-1)\n",
    "    mb_ad_dim_rl_idx = np.outer(pb2_idx, rl_idx).reshape(-1)\n",
    "    bspk_mb_ad_con_lr = np.transpose(np.transpose(bspk_mb_ad, [1, 2, 0])[mb_ad_con_lr_idx == 1], [2, 0, 1])\n",
    "    bspk_mb_ad_amp_lr = np.transpose(np.transpose(bspk_mb_ad, [1, 2, 0])[mb_ad_amp_lr_idx == 1], [2, 0, 1])\n",
    "    bspk_mb_ad_dim_lr = np.transpose(np.transpose(bspk_mb_ad, [1, 2, 0])[mb_ad_dim_lr_idx == 1], [2, 0, 1])\n",
    "    bspk_mb_ad_con_rl = np.transpose(np.transpose(bspk_mb_ad, [1, 2, 0])[mb_ad_con_rl_idx == 1], [2, 0, 1])\n",
    "    bspk_mb_ad_amp_rl = np.transpose(np.transpose(bspk_mb_ad, [1, 2, 0])[mb_ad_amp_rl_idx == 1], [2, 0, 1])\n",
    "    bspk_mb_ad_dim_rl = np.transpose(np.transpose(bspk_mb_ad, [1, 2, 0])[mb_ad_dim_rl_idx == 1], [2, 0, 1])\n",
    "\n",
    "    if p['exp_version'] == 1:\n",
    "        bspk_total_mb_ad = np.stack(\n",
    "            [np.stack([np.hstack([bspk_mb_ad_con_lr, np.full(bspk_mb_ad_con_lr.shape, np.nan)]), \n",
    "                       bspk_mb_ad_amp_lr, bspk_mb_ad_dim_lr], axis=1),\n",
    "             np.stack([np.hstack([bspk_mb_ad_con_rl, np.full(bspk_mb_ad_con_rl.shape, np.nan)]), \n",
    "                       bspk_mb_ad_amp_rl, bspk_mb_ad_dim_rl], axis=1)], axis=1)\n",
    "    else:\n",
    "        bspk_total_mb_ad = np.stack(\n",
    "            [np.stack([bspk_mb_ad_con_lr, bspk_mb_ad_amp_lr, bspk_mb_ad_dim_lr], axis=1),\n",
    "             np.stack([bspk_mb_ad_con_rl, bspk_mb_ad_amp_rl, bspk_mb_ad_dim_rl], axis=1)], axis=1)\n",
    "else:\n",
    "    bspk_total_mb_ad = np.nan\n",
    "    tbins_mb_ad = np.nan"
   ]
  },
  {
   "cell_type": "markdown",
   "metadata": {},
   "source": [
    "### 2-05. Load 'mb_da' session"
   ]
  },
  {
   "cell_type": "code",
   "execution_count": 19,
   "metadata": {},
   "outputs": [],
   "source": [
    "if p['mb_da'] == 1:\n",
    "    name_mb_da = utils.file_name(p['exp_date'], p['retina_idx'], p['intracell_idx'], 'mb_da')\n",
    "    pd_mb_da = ext.photodiode(data_dir + p['exp_name'] + '/' + name_mb_da)\n",
    "    elec_mb_da = ext.electrode(data_dir + p['exp_name'] + '/' + name_mb_da)\n",
    "\n",
    "    maxtab_mb_da, _ = spk.peakdet(pd_mb_da, p['mb_da_th'])\n",
    "\n",
    "    N_mb_da = maxtab_mb_da.shape[0]\n",
    "    elec_ext_mb_da = ext.split_trial(elec_mb_da, maxtab_mb_da, \n",
    "                                     start=0, last=N_mb_da, every=2, per=1, \n",
    "                                     sample_rate=fs, mode='continuous')\n",
    "    spikes_ext_mb_da = []\n",
    "    for cell in range(p['g_cell_num']):\n",
    "        spikes_ext_mb_da.append(ext.split_trial(spikes_mb_da[cell], maxtab_mb_da, \n",
    "                                                start=0, last=N_mb_da, every=2, per=1, \n",
    "                                                sample_rate=fs, mode='discrete'))\n",
    "    tbins_mb_da = np.arange(0, 129 * fr, fr)\n",
    "    bspk_mb_da = np.stack([np.stack([spk.binspikes(spikes_ext_mb_da[cell][trial], tbins_mb_da) \n",
    "                                     for trial in range(int(N_mb_da/2))]) \n",
    "                           for cell in range(p['g_cell_num'])])\n",
    "\n",
    "    mb_da_con_lr_idx = np.outer(con_idx, lr_idx).reshape(-1)\n",
    "    mb_da_amp_lr_idx = np.outer(pb2_idx, lr_idx).reshape(-1)\n",
    "    mb_da_dim_lr_idx = np.outer(pb1_idx, lr_idx).reshape(-1)\n",
    "    mb_da_con_rl_idx = np.outer(con_idx, rl_idx).reshape(-1)\n",
    "    mb_da_amp_rl_idx = np.outer(pb2_idx, rl_idx).reshape(-1)\n",
    "    mb_da_dim_rl_idx = np.outer(pb1_idx, rl_idx).reshape(-1)\n",
    "    bspk_mb_da_con_lr = np.transpose(np.transpose(bspk_mb_da, [1, 2, 0])[mb_da_con_lr_idx == 1], [2, 0, 1])\n",
    "    bspk_mb_da_amp_lr = np.transpose(np.transpose(bspk_mb_da, [1, 2, 0])[mb_da_amp_lr_idx == 1], [2, 0, 1])\n",
    "    bspk_mb_da_dim_lr = np.transpose(np.transpose(bspk_mb_da, [1, 2, 0])[mb_da_dim_lr_idx == 1], [2, 0, 1])\n",
    "    bspk_mb_da_con_rl = np.transpose(np.transpose(bspk_mb_da, [1, 2, 0])[mb_da_con_rl_idx == 1], [2, 0, 1])\n",
    "    bspk_mb_da_amp_rl = np.transpose(np.transpose(bspk_mb_da, [1, 2, 0])[mb_da_amp_rl_idx == 1], [2, 0, 1])\n",
    "    bspk_mb_da_dim_rl = np.transpose(np.transpose(bspk_mb_da, [1, 2, 0])[mb_da_dim_rl_idx == 1], [2, 0, 1])\n",
    "\n",
    "    if p['exp_version'] == 1:\n",
    "        bspk_total_mb_da = np.stack(\n",
    "            [np.stack([np.hstack([bspk_mb_da_con_lr, np.full(bspk_mb_da_con_lr.shape, np.nan)]), \n",
    "                       bspk_mb_da_amp_lr, bspk_mb_da_dim_lr], axis=1),\n",
    "             np.stack([np.hstack([bspk_mb_da_con_rl, np.full(bspk_mb_da_con_rl.shape, np.nan)]), \n",
    "                       bspk_mb_da_amp_rl, bspk_mb_da_dim_rl], axis=1)], axis=1)\n",
    "    else:\n",
    "        bspk_total_mb_da = np.stack(\n",
    "            [np.stack([bspk_mb_da_con_lr, bspk_mb_da_amp_lr, bspk_mb_da_dim_lr], axis=1),\n",
    "             np.stack([bspk_mb_da_con_rl, bspk_mb_da_amp_rl, bspk_mb_da_dim_rl], axis=1)], axis=1)\n",
    "else:\n",
    "    bspk_total_mb_da = np.nan\n",
    "    tbins_mb_da = np.nan"
   ]
  },
  {
   "cell_type": "markdown",
   "metadata": {},
   "source": [
    "### 2-06. Load 'mb_2ad' session"
   ]
  },
  {
   "cell_type": "code",
   "execution_count": 20,
   "metadata": {},
   "outputs": [],
   "source": [
    "if p['mb_2ad'] == 1:\n",
    "    name_mb_2ad = utils.file_name(p['exp_date'], p['retina_idx'], p['intracell_idx'], 'mb_2ad')\n",
    "    pd_mb_2ad = ext.photodiode(data_dir + p['exp_name'] + '/' + name_mb_2ad)\n",
    "    elec_mb_2ad = ext.electrode(data_dir + p['exp_name'] + '/' + name_mb_2ad)\n",
    "\n",
    "    maxtab_mb_2ad, _ = spk.peakdet(pd_mb_2ad, p['mb_2ad_th'])\n",
    "\n",
    "    N_mb_2ad = maxtab_mb_2ad.shape[0]\n",
    "    elec_ext_mb_2ad = ext.split_trial(elec_mb_2ad, maxtab_mb_2ad, \n",
    "                                      start=0, last=N_mb_2ad, every=2, per=1, \n",
    "                                      sample_rate=fs, mode='continuous')\n",
    "    spikes_ext_mb_2ad = []\n",
    "    for cell in range(p['g_cell_num']):\n",
    "        spikes_ext_mb_2ad.append(ext.split_trial(spikes_mb_2ad[cell], maxtab_mb_2ad, \n",
    "                                                 start=0, last=N_mb_2ad, every=2, per=1, \n",
    "                                                 sample_rate=fs, mode='discrete'))\n",
    "    tbins_mb_2ad = np.arange(0, 129 * fr, fr)\n",
    "    bspk_mb_2ad = np.stack([np.stack([spk.binspikes(spikes_ext_mb_2ad[cell][trial], tbins_mb_2ad) \n",
    "                                      for trial in range(int(N_mb_2ad/2))]) \n",
    "                           for cell in range(p['g_cell_num'])])\n",
    "\n",
    "    mb_2ad_con_lr_idx = np.outer(con_idx, lr_idx).reshape(-1)\n",
    "    mb_2ad_amp_lr_idx = np.outer(pb1_idx, lr_idx).reshape(-1)\n",
    "    mb_2ad_dim_lr_idx = np.outer(pb2_idx, lr_idx).reshape(-1)\n",
    "    mb_2ad_con_rl_idx = np.outer(con_idx, rl_idx).reshape(-1)\n",
    "    mb_2ad_amp_rl_idx = np.outer(pb1_idx, rl_idx).reshape(-1)\n",
    "    mb_2ad_dim_rl_idx = np.outer(pb2_idx, rl_idx).reshape(-1)\n",
    "    bspk_mb_2ad_con_lr = np.transpose(np.transpose(bspk_mb_2ad, [1, 2, 0])[mb_2ad_con_lr_idx == 1], [2, 0, 1])\n",
    "    bspk_mb_2ad_amp_lr = np.transpose(np.transpose(bspk_mb_2ad, [1, 2, 0])[mb_2ad_amp_lr_idx == 1], [2, 0, 1])\n",
    "    bspk_mb_2ad_dim_lr = np.transpose(np.transpose(bspk_mb_2ad, [1, 2, 0])[mb_2ad_dim_lr_idx == 1], [2, 0, 1])\n",
    "    bspk_mb_2ad_con_rl = np.transpose(np.transpose(bspk_mb_2ad, [1, 2, 0])[mb_2ad_con_rl_idx == 1], [2, 0, 1])\n",
    "    bspk_mb_2ad_amp_rl = np.transpose(np.transpose(bspk_mb_2ad, [1, 2, 0])[mb_2ad_amp_rl_idx == 1], [2, 0, 1])\n",
    "    bspk_mb_2ad_dim_rl = np.transpose(np.transpose(bspk_mb_2ad, [1, 2, 0])[mb_2ad_dim_rl_idx == 1], [2, 0, 1])\n",
    "\n",
    "    if p['exp_version'] == 1:\n",
    "        bspk_total_mb_2ad = np.stack(\n",
    "            [np.stack([np.hstack([bspk_mb_2ad_con_lr, np.full(bspk_mb_2ad_con_lr.shape, np.nan)]), \n",
    "                       bspk_mb_2ad_amp_lr, bspk_mb_2ad_dim_lr], axis=1),\n",
    "             np.stack([np.hstack([bspk_mb_2ad_con_rl, np.full(bspk_mb_2ad_con_rl.shape, np.nan)]), \n",
    "                       bspk_mb_2ad_amp_rl, bspk_mb_2ad_dim_rl], axis=1)], axis=1)\n",
    "    else:\n",
    "        bspk_total_mb_2ad = np.stack(\n",
    "            [np.stack([bspk_mb_2ad_con_lr, bspk_mb_2ad_amp_lr, bspk_mb_2ad_dim_lr], axis=1),\n",
    "             np.stack([bspk_mb_2ad_con_rl, bspk_mb_2ad_amp_rl, bspk_mb_2ad_dim_rl], axis=1)], axis=1)\n",
    "else:\n",
    "    bspk_total_mb_2ad = np.nan\n",
    "    tbins_mb_2ad = np.nan"
   ]
  },
  {
   "cell_type": "markdown",
   "metadata": {},
   "source": [
    "### 2-07. Load 'mb_4ad' session"
   ]
  },
  {
   "cell_type": "code",
   "execution_count": 21,
   "metadata": {},
   "outputs": [],
   "source": [
    "if p['mb_4ad'] == 1:\n",
    "    name_mb_4ad = utils.file_name(p['exp_date'], p['retina_idx'], p['intracell_idx'], 'mb_4ad')\n",
    "    pd_mb_4ad = ext.photodiode(data_dir + p['exp_name'] + '/' + name_mb_4ad)\n",
    "    elec_mb_4ad = ext.electrode(data_dir + p['exp_name'] + '/' + name_mb_4ad)\n",
    "\n",
    "    maxtab_mb_4ad, _ = spk.peakdet(pd_mb_4ad, p['mb_4ad_th'])\n",
    "\n",
    "    N_mb_4ad = maxtab_mb_4ad.shape[0]\n",
    "    elec_ext_mb_4ad = ext.split_trial(elec_mb_4ad, maxtab_mb_4ad, \n",
    "                                      start=0, last=N_mb_4ad, every=2, per=1, \n",
    "                                      sample_rate=fs, mode='continuous')\n",
    "    spikes_ext_mb_4ad = []\n",
    "    for cell in range(p['g_cell_num']):\n",
    "        spikes_ext_mb_4ad.append(ext.split_trial(spikes_mb_4ad[cell], maxtab_mb_4ad, \n",
    "                                                 start=0, last=N_mb_4ad, every=2, per=1, \n",
    "                                                 sample_rate=fs, mode='discrete'))\n",
    "    tbins_mb_4ad = np.arange(0, 129 * fr, fr)\n",
    "    bspk_mb_4ad = np.stack([np.stack([spk.binspikes(spikes_ext_mb_4ad[cell][trial], tbins_mb_4ad) \n",
    "                                      for trial in range(int(N_mb_4ad/2))]) \n",
    "                           for cell in range(p['g_cell_num'])])\n",
    "\n",
    "    mb_4ad_con_lr_idx = np.outer(con_idx, lr_idx).reshape(-1)\n",
    "    mb_4ad_amp_lr_idx = np.outer(pb1_idx, lr_idx).reshape(-1)\n",
    "    mb_4ad_dim_lr_idx = np.outer(pb2_idx, lr_idx).reshape(-1)\n",
    "    mb_4ad_con_rl_idx = np.outer(con_idx, rl_idx).reshape(-1)\n",
    "    mb_4ad_amp_rl_idx = np.outer(pb1_idx, rl_idx).reshape(-1)\n",
    "    mb_4ad_dim_rl_idx = np.outer(pb2_idx, rl_idx).reshape(-1)\n",
    "    bspk_mb_4ad_con_lr = np.transpose(np.transpose(bspk_mb_4ad, [1, 2, 0])[mb_4ad_con_lr_idx == 1], [2, 0, 1])\n",
    "    bspk_mb_4ad_amp_lr = np.transpose(np.transpose(bspk_mb_4ad, [1, 2, 0])[mb_4ad_amp_lr_idx == 1], [2, 0, 1])\n",
    "    bspk_mb_4ad_dim_lr = np.transpose(np.transpose(bspk_mb_4ad, [1, 2, 0])[mb_4ad_dim_lr_idx == 1], [2, 0, 1])\n",
    "    bspk_mb_4ad_con_rl = np.transpose(np.transpose(bspk_mb_4ad, [1, 2, 0])[mb_4ad_con_rl_idx == 1], [2, 0, 1])\n",
    "    bspk_mb_4ad_amp_rl = np.transpose(np.transpose(bspk_mb_4ad, [1, 2, 0])[mb_4ad_amp_rl_idx == 1], [2, 0, 1])\n",
    "    bspk_mb_4ad_dim_rl = np.transpose(np.transpose(bspk_mb_4ad, [1, 2, 0])[mb_4ad_dim_rl_idx == 1], [2, 0, 1])\n",
    "\n",
    "    if p['exp_version'] == 1:\n",
    "        bspk_total_mb_4ad = np.stack(\n",
    "            [np.stack([np.hstack([bspk_mb_4ad_con_lr, np.full(bspk_mb_4ad_con_lr.shape, np.nan)]), \n",
    "                       bspk_mb_4ad_amp_lr, bspk_mb_4ad_dim_lr], axis=1),\n",
    "             np.stack([np.hstack([bspk_mb_4ad_con_rl, np.full(bspk_mb_4ad_con_rl.shape, np.nan)]), \n",
    "                       bspk_mb_4ad_amp_rl, bspk_mb_4ad_dim_rl], axis=1)], axis=1)\n",
    "    else:\n",
    "        bspk_total_mb_4ad = np.stack(\n",
    "            [np.stack([bspk_mb_4ad_con_lr, bspk_mb_4ad_amp_lr, bspk_mb_4ad_dim_lr], axis=1),\n",
    "             np.stack([bspk_mb_4ad_con_rl, bspk_mb_4ad_amp_rl, bspk_mb_4ad_dim_rl], axis=1)], axis=1)\n",
    "else:\n",
    "    bspk_total_mb_4ad = np.nan\n",
    "    tbins_mb_4ad = np.nan"
   ]
  },
  {
   "cell_type": "markdown",
   "metadata": {},
   "source": [
    "### 2-08. Load 'mb_2da' session"
   ]
  },
  {
   "cell_type": "code",
   "execution_count": 22,
   "metadata": {},
   "outputs": [],
   "source": [
    "if p['mb_2da'] == 1:\n",
    "    name_mb_2da = utils.file_name(p['exp_date'], p['retina_idx'], p['intracell_idx'], 'mb_2da')\n",
    "    pd_mb_2da = ext.photodiode(data_dir + p['exp_name'] + '/' + name_mb_2da)\n",
    "    elec_mb_2da = ext.electrode(data_dir + p['exp_name'] + '/' + name_mb_2da)\n",
    "\n",
    "    maxtab_mb_2da, _ = spk.peakdet(pd_mb_2da, p['mb_2da_th'])\n",
    "\n",
    "    N_mb_2da = maxtab_mb_2da.shape[0]\n",
    "    elec_ext_mb_2da = ext.split_trial(elec_mb_2da, maxtab_mb_2da, \n",
    "                                      start=0, last=N_mb_2da, every=2, per=1, \n",
    "                                      sample_rate=fs, mode='continuous')\n",
    "    spikes_ext_mb_2da = []\n",
    "    for cell in range(p['g_cell_num']):\n",
    "        spikes_ext_mb_2da.append(ext.split_trial(spikes_mb_2da[cell], maxtab_mb_2da, \n",
    "                                                 start=0, last=N_mb_2da, every=2, per=1, \n",
    "                                                 sample_rate=fs, mode='discrete'))\n",
    "    tbins_mb_2da = np.arange(0, 129 * fr, fr)\n",
    "    bspk_mb_2da = np.stack([np.stack([spk.binspikes(spikes_ext_mb_2da[cell][trial], tbins_mb_2da) \n",
    "                                     for trial in range(int(N_mb_2da/2))]) \n",
    "                           for cell in range(p['g_cell_num'])])\n",
    "\n",
    "    mb_2da_con_lr_idx = np.outer(con_idx, lr_idx).reshape(-1)\n",
    "    mb_2da_amp_lr_idx = np.outer(pb2_idx, lr_idx).reshape(-1)\n",
    "    mb_2da_dim_lr_idx = np.outer(pb1_idx, lr_idx).reshape(-1)\n",
    "    mb_2da_con_rl_idx = np.outer(con_idx, rl_idx).reshape(-1)\n",
    "    mb_2da_amp_rl_idx = np.outer(pb2_idx, rl_idx).reshape(-1)\n",
    "    mb_2da_dim_rl_idx = np.outer(pb1_idx, rl_idx).reshape(-1)\n",
    "    bspk_mb_2da_con_lr = np.transpose(np.transpose(bspk_mb_2da, [1, 2, 0])[mb_2da_con_lr_idx == 1], [2, 0, 1])\n",
    "    bspk_mb_2da_amp_lr = np.transpose(np.transpose(bspk_mb_2da, [1, 2, 0])[mb_2da_amp_lr_idx == 1], [2, 0, 1])\n",
    "    bspk_mb_2da_dim_lr = np.transpose(np.transpose(bspk_mb_2da, [1, 2, 0])[mb_2da_dim_lr_idx == 1], [2, 0, 1])\n",
    "    bspk_mb_2da_con_rl = np.transpose(np.transpose(bspk_mb_2da, [1, 2, 0])[mb_2da_con_rl_idx == 1], [2, 0, 1])\n",
    "    bspk_mb_2da_amp_rl = np.transpose(np.transpose(bspk_mb_2da, [1, 2, 0])[mb_2da_amp_rl_idx == 1], [2, 0, 1])\n",
    "    bspk_mb_2da_dim_rl = np.transpose(np.transpose(bspk_mb_2da, [1, 2, 0])[mb_2da_dim_rl_idx == 1], [2, 0, 1])\n",
    "\n",
    "    if p['exp_version'] == 1:\n",
    "        bspk_total_mb_2da = np.stack(\n",
    "            [np.stack([np.hstack([bspk_mb_2da_con_lr, np.full(bspk_mb_2da_con_lr.shape, np.nan)]), \n",
    "                       bspk_mb_2da_amp_lr, bspk_mb_2da_dim_lr], axis=1),\n",
    "             np.stack([np.hstack([bspk_mb_2da_con_rl, np.full(bspk_mb_2da_con_rl.shape, np.nan)]), \n",
    "                       bspk_mb_2da_amp_rl, bspk_mb_2da_dim_rl], axis=1)], axis=1)\n",
    "    else:\n",
    "        bspk_total_mb_2da = np.stack(\n",
    "            [np.stack([bspk_mb_2da_con_lr, bspk_mb_2da_amp_lr, bspk_mb_2da_dim_lr], axis=1),\n",
    "             np.stack([bspk_mb_2da_con_rl, bspk_mb_2da_amp_rl, bspk_mb_2da_dim_rl], axis=1)], axis=1)\n",
    "else:\n",
    "    bspk_total_mb_2da = np.nan\n",
    "    tbins_mb_2da = np.nan"
   ]
  },
  {
   "cell_type": "markdown",
   "metadata": {},
   "source": [
    "### 2-09. Load 'mb_4da' session"
   ]
  },
  {
   "cell_type": "code",
   "execution_count": 23,
   "metadata": {},
   "outputs": [],
   "source": [
    "if p['mb_4da'] == 1:\n",
    "    name_mb_4da = utils.file_name(p['exp_date'], p['retina_idx'], p['intracell_idx'], 'mb_4da')\n",
    "    pd_mb_4da = ext.photodiode(data_dir + p['exp_name'] + '/' + name_mb_4da)\n",
    "    elec_mb_4da = ext.electrode(data_dir + p['exp_name'] + '/' + name_mb_4da)\n",
    "\n",
    "    maxtab_mb_4da, _ = spk.peakdet(pd_mb_4da, p['mb_4da_th'])\n",
    "\n",
    "    N_mb_4da = maxtab_mb_4da.shape[0]\n",
    "    elec_ext_mb_4da = ext.split_trial(elec_mb_4da, maxtab_mb_4da, \n",
    "                                      start=0, last=N_mb_4da, every=2, per=1, \n",
    "                                      sample_rate=fs, mode='continuous')\n",
    "    spikes_ext_mb_4da = []\n",
    "    for cell in range(p['g_cell_num']):\n",
    "        spikes_ext_mb_4da.append(ext.split_trial(spikes_mb_4da[cell], maxtab_mb_4da, \n",
    "                                                 start=0, last=N_mb_4da, every=2, per=1, \n",
    "                                                 sample_rate=fs, mode='discrete'))\n",
    "    tbins_mb_4da = np.arange(0, 129 * fr, fr)\n",
    "    bspk_mb_4da = np.stack([np.stack([spk.binspikes(spikes_ext_mb_4da[cell][trial], tbins_mb_4da) \n",
    "                                     for trial in range(int(N_mb_4da/2))]) \n",
    "                           for cell in range(p['g_cell_num'])])\n",
    "\n",
    "    mb_4da_con_lr_idx = np.outer(con_idx, lr_idx).reshape(-1)\n",
    "    mb_4da_amp_lr_idx = np.outer(pb2_idx, lr_idx).reshape(-1)\n",
    "    mb_4da_dim_lr_idx = np.outer(pb1_idx, lr_idx).reshape(-1)\n",
    "    mb_4da_con_rl_idx = np.outer(con_idx, rl_idx).reshape(-1)\n",
    "    mb_4da_amp_rl_idx = np.outer(pb2_idx, rl_idx).reshape(-1)\n",
    "    mb_4da_dim_rl_idx = np.outer(pb1_idx, rl_idx).reshape(-1)\n",
    "    bspk_mb_4da_con_lr = np.transpose(np.transpose(bspk_mb_4da, [1, 2, 0])[mb_4da_con_lr_idx == 1], [2, 0, 1])\n",
    "    bspk_mb_4da_amp_lr = np.transpose(np.transpose(bspk_mb_4da, [1, 2, 0])[mb_4da_amp_lr_idx == 1], [2, 0, 1])\n",
    "    bspk_mb_4da_dim_lr = np.transpose(np.transpose(bspk_mb_4da, [1, 2, 0])[mb_4da_dim_lr_idx == 1], [2, 0, 1])\n",
    "    bspk_mb_4da_con_rl = np.transpose(np.transpose(bspk_mb_4da, [1, 2, 0])[mb_4da_con_rl_idx == 1], [2, 0, 1])\n",
    "    bspk_mb_4da_amp_rl = np.transpose(np.transpose(bspk_mb_4da, [1, 2, 0])[mb_4da_amp_rl_idx == 1], [2, 0, 1])\n",
    "    bspk_mb_4da_dim_rl = np.transpose(np.transpose(bspk_mb_4da, [1, 2, 0])[mb_4da_dim_rl_idx == 1], [2, 0, 1])\n",
    "\n",
    "    if p['exp_version'] == 1:\n",
    "        bspk_total_mb_4da = np.stack(\n",
    "            [np.stack([np.hstack([bspk_mb_4da_con_lr, np.full(bspk_mb_4da_con_lr.shape, np.nan)]), \n",
    "                       bspk_mb_4da_amp_lr, bspk_mb_4da_dim_lr], axis=1),\n",
    "             np.stack([np.hstack([bspk_mb_4da_con_rl, np.full(bspk_mb_4da_con_rl.shape, np.nan)]), \n",
    "                       bspk_mb_4da_amp_rl, bspk_mb_4da_dim_rl], axis=1)], axis=1)\n",
    "    else:\n",
    "        bspk_total_mb_4da = np.stack(\n",
    "            [np.stack([bspk_mb_4da_con_lr, bspk_mb_4da_amp_lr, bspk_mb_4da_dim_lr], axis=1),\n",
    "             np.stack([bspk_mb_4da_con_rl, bspk_mb_4da_amp_rl, bspk_mb_4da_dim_rl], axis=1)], axis=1)\n",
    "else:\n",
    "    bspk_total_mb_4da = np.nan\n",
    "    tbins_mb_4da = np.nan"
   ]
  },
  {
   "cell_type": "markdown",
   "metadata": {},
   "source": [
    "### 2-10. Load 'rf_30m' session"
   ]
  },
  {
   "cell_type": "code",
   "execution_count": 24,
   "metadata": {},
   "outputs": [
    {
     "data": {
      "image/png": "[encoded data removed]",
      "text/plain": [
       "<Figure size 720x216 with 20 Axes>"
      ]
     },
     "metadata": {
      "needs_background": "light"
     },
     "output_type": "display_data"
    }
   ],
   "source": [
    "if p['rf_30m'] == 1:\n",
    "    name_rf_30m = utils.file_name(p['exp_date'], p['retina_idx'], p['intracell_idx'], 'rf_30m')\n",
    "    pd_rf_30m = ext.photodiode(data_dir + p['exp_name'] + '/' + name_rf_30m)\n",
    "    elec_rf_30m = ext.electrode(data_dir + p['exp_name'] + '/' + name_rf_30m)\n",
    "\n",
    "    maxtab_rf_30m, _ = spk.peakdet(pd_rf_30m, p['rf_30m_th'])\n",
    "\n",
    "    us_factor_rf_30m = 4\n",
    "    elec_ext_rf_30m = ext.split_trial(elec_rf_30m, maxtab_rf_30m, \n",
    "                                      start=0, last=2, every=2, per=2, \n",
    "                                      sample_rate=fs, mode='continuous')\n",
    "    spikes_ext_rf_30m = []\n",
    "    for cell in range(p['g_cell_num']):\n",
    "        spikes_ext_rf_30m.append(ext.split_trial(spikes_rf_30m[cell], maxtab_rf_30m, \n",
    "                                                 start=0, last=2, every=2, per=2, \n",
    "                                                 sample_rate=fs, mode='discrete'))\n",
    "    tbins_rf_30m = np.linspace(0, elec_ext_rf_30m[0].shape[0]/fs, us_factor_rf_30m * 54000 + 1)[:-1]\n",
    "    bspk_rf_30m = np.stack([spk.binspikes(spikes_ext_rf_30m[cell][0], tbins_rf_30m)\n",
    "                            for cell in range(p['g_cell_num'])])\n",
    "    stim_rf_30m = ext.load_stimulus('2d_st_bin_wn_w8', mode='mono', two_dim=True)\n",
    "\n",
    "    stim_us_rf_30m = st.upsample(stim_rf_30m, us_factor_rf_30m)[0]\n",
    "    #stim_us_rf_30m -= np.mean(stim_us_rf_30m)\n",
    "    #stim_us_rf_30m /= np.std(stim_us_rf_30m)\n",
    "    stim_us_rf_30m -= 0.5\n",
    "    stim_us_rf_30m *= 2\n",
    "    stas_rf_30m = []\n",
    "    for cell in range(p['g_cell_num']):\n",
    "        sta_rf_30m, tax_rf_30m = ft.sta(tbins_rf_30m, stim_us_rf_30m, spikes_ext_rf_30m[cell][0], us_factor_rf_30m*15)\n",
    "        stas_rf_30m.append(sta_rf_30m)\n",
    "\n",
    "    stas_space_rf_30m = np.zeros((p['g_cell_num'], stim_rf_30m.shape[1], stim_rf_30m.shape[-1]))\n",
    "    stas_time_rf_30m = np.zeros((p['g_cell_num'], us_factor_rf_30m*15))\n",
    "    stas_ellipse_rf_30m = np.zeros((p['g_cell_num'], 5))\n",
    "    stim_us_rf_30m = stim_us_rf_30m.astype(int)\n",
    "    \n",
    "    fig = plt.figure(figsize=(10, 3))\n",
    "    for cell in range(p['g_cell_num']):\n",
    "        space, time = ft.decompose(ft.smooth(stas_rf_30m[cell], spacesig=0.7, timesig=1))\n",
    "        if np.max(space) < -np.min(space):\n",
    "            space = -space\n",
    "            time = -time\n",
    "        stas_space_rf_30m[cell, :, :] = space\n",
    "        stas_time_rf_30m[cell, :] = time\n",
    "        try:\n",
    "            center, widths, theta = ft.get_ellipse(space, sigma=1.0)\n",
    "            stas_ellipse_rf_30m[cell, 0] = center[0]\n",
    "            stas_ellipse_rf_30m[cell, 1] = center[1]\n",
    "            stas_ellipse_rf_30m[cell, 2] = widths[0]\n",
    "            stas_ellipse_rf_30m[cell, 3] = widths[1]\n",
    "            stas_ellipse_rf_30m[cell, 4] = theta\n",
    "        except:\n",
    "            stas_ellipse_rf_30m[cell, 0] = np.nan\n",
    "            stas_ellipse_rf_30m[cell, 1] = np.nan\n",
    "            stas_ellipse_rf_30m[cell, 2] = np.nan\n",
    "            stas_ellipse_rf_30m[cell, 3] = np.nan\n",
    "            stas_ellipse_rf_30m[cell, 4] = np.nan\n",
    "        ax = plt.subplot(2, p['g_cell_num'], cell+1)\n",
    "        plt.imshow(space, cmap='seismic', vmin=-np.max(abs(space)), vmax=np.max(abs(space)), aspect='auto', interpolation='nearest')\n",
    "        ax = plt.subplot(2, p['g_cell_num'], p['g_cell_num']+cell+1)\n",
    "        plt.plot(time)\n",
    "else:\n",
    "    stim_us_rf_30m = np.nan\n",
    "    bspk_rf_30m = np.nan\n",
    "    tbins_rf_30m = np.nan"
   ]
  },
  {
   "cell_type": "markdown",
   "metadata": {},
   "source": [
    "## 3. Unsorted experiment"
   ]
  },
  {
   "cell_type": "markdown",
   "metadata": {},
   "source": [
    "### 3-01. Load 'line_w4' session"
   ]
  },
  {
   "cell_type": "code",
   "execution_count": 25,
   "metadata": {},
   "outputs": [
    {
     "data": {
      "image/png": "[encoded data removed]",
      "text/plain": [
       "<Figure size 432x288 with 1 Axes>"
      ]
     },
     "metadata": {
      "needs_background": "light"
     },
     "output_type": "display_data"
    }
   ],
   "source": [
    "if p['line_w4'] == 1:\n",
    "    name_line_w4 = utils.file_name(p['exp_date'], p['retina_idx'], p['intracell_idx'], 'line_w4')\n",
    "    pd_line_w4 = ext.photodiode(data_dir + p['exp_name'] + '/notforsort/' + name_line_w4)\n",
    "    elec_line_w4 = ext.electrode(data_dir + p['exp_name'] + '/notforsort/' + name_line_w4)\n",
    "\n",
    "    maxtab_line_w4, _ = spk.peakdet(pd_line_w4, p['line_w4_th'])\n",
    "\n",
    "    us_factor_line_w4 = 4\n",
    "    elec_ext_line_w4 = ext.split_trial(elec_line_w4, maxtab_line_w4, \n",
    "                                       start=0, last=2, every=2, per=2, sample_rate=fs, mode='continuous')\n",
    "    tbins_line_w4 = np.linspace(0, elec_ext_line_w4[0].shape[0]/fs, us_factor_line_w4 * 4500 + 1)[:-1]\n",
    "    stim_line_w4 = ext.load_stimulus('1d_st_bin_wn_w4', mode='mono', two_dim=False)[:4500, :]\n",
    "\n",
    "    stim_us_line_w4 = st.upsample(stim_line_w4, us_factor_line_w4)[0]\n",
    "    #stim_us_line_w4 -= np.mean(stim_us_line_w4)\n",
    "    #stim_us_line_w4 /= np.std(stim_us_line_w4)\n",
    "    stim_us_line_w4 -= 0.5\n",
    "    stim_us_line_w4 *= 2\n",
    "    elec_ext_rs_line_w4 = scipy.signal.resample(st.downsample(elec_ext_line_w4[0], 10)[0], \n",
    "                                                stim_us_line_w4.shape[0])\n",
    "\n",
    "    idx1_line_w4 = p['idx1_line_w4']\n",
    "    idx2_line_w4 = p['idx2_line_w4']\n",
    "    elec_ext_rs_cut_line_w4 = elec_ext_rs_line_w4[idx1_line_w4:idx2_line_w4]\n",
    "    elec_ext_rs_cut_ft_line_w4 = utils.butter_lowpass_filter(\n",
    "        utils.butter_highpass_filter(elec_ext_rs_cut_line_w4, fs=us_factor_line_w4*30.0), fs=us_factor_line_w4*30.0)\n",
    "    elec_ext_rs_cut_ft_line_w4 -= np.mean(elec_ext_rs_cut_ft_line_w4)\n",
    "    elec_ext_rs_cut_ft_line_w4 /= np.std(elec_ext_rs_cut_ft_line_w4)\n",
    "\n",
    "    stim_us_cut_line_w4 = stim_us_line_w4[idx1_line_w4+1000:idx2_line_w4-1000]\n",
    "    intra_line_w4 = elec_ext_rs_cut_ft_line_w4[1000:-1000]\n",
    "    tbins_cut_line_w4 = tbins_line_w4[idx1_line_w4+1000:idx2_line_w4-1000]\n",
    "    rc_line_w4 = ft.revcorr(stim_us_cut_line_w4, intra_line_w4, us_factor_line_w4*15)[0]\n",
    "    stim_us_cut_line_w4 = stim_us_cut_line_w4.astype(int)\n",
    "    plt.imshow(rc_line_w4, cmap='seismic', vmin=-np.max(abs(rc_line_w4)), vmax=np.max(abs(rc_line_w4)), interpolation='nearest', aspect='auto')"
   ]
  },
  {
   "cell_type": "markdown",
   "metadata": {},
   "source": [
    "### 3-02. Load 'line_w8' session"
   ]
  },
  {
   "cell_type": "code",
   "execution_count": 26,
   "metadata": {},
   "outputs": [],
   "source": [
    "if p['line_w8'] == 1:\n",
    "    name_line_w8 = utils.file_name(p['exp_date'], p['retina_idx'], p['intracell_idx'], 'line_w8')\n",
    "    pd_line_w8 = ext.photodiode(data_dir + p['exp_name'] + '/notforsort/' + name_line_w8)\n",
    "    elec_line_w8 = ext.electrode(data_dir + p['exp_name'] + '/notforsort/' + name_line_w8)\n",
    "\n",
    "    maxtab_line_w8, _ = spk.peakdet(pd_line_w8, p['line_w8_th'])\n",
    "\n",
    "    us_factor_line_w8 = 4\n",
    "    elec_ext_line_w8 = ext.split_trial(elec_line_w8, maxtab_line_w8, \n",
    "                                       start=0, last=2, every=2, per=2, sample_rate=fs, mode='continuous')\n",
    "    tbins_line_w8 = np.linspace(0, elec_ext_line_w8[0].shape[0]/fs, us_factor_line_w8 * 4500 + 1)[:-1]\n",
    "    stim_line_w8 = np.repeat(ext.load_stimulus('1d_st_bin_wn_w8', mode='mono', two_dim=False)[:4500, :], \n",
    "                             2, axis=1)\n",
    "\n",
    "    stim_us_line_w8 = st.upsample(stim_line_w8, us_factor_line_w8)[0]\n",
    "    #stim_us_line_w8 -= np.mean(stim_us_line_w8)\n",
    "    #stim_us_line_w8 /= np.std(stim_us_line_w8)\n",
    "    stim_us_line_w8 -= 0.5\n",
    "    stim_us_line_w8 *= 2\n",
    "    elec_ext_rs_line_w8 = scipy.signal.resample(st.downsample(elec_ext_line_w8[0], 10)[0], \n",
    "                                                stim_us_line_w8.shape[0])\n",
    "\n",
    "    idx1_line_w8 = p['idx1_line_w8']\n",
    "    idx2_line_w8 = p['idx2_line_w8']\n",
    "    elec_ext_rs_cut_line_w8 = elec_ext_rs_line_w8[idx1_line_w8:idx2_line_w8]\n",
    "    elec_ext_rs_cut_ft_line_w8 = utils.butter_lowpass_filter(\n",
    "        utils.butter_highpass_filter(elec_ext_rs_cut_line_w8, fs=us_factor_line_w8*30.0), fs=us_factor_line_w8*30.0)\n",
    "    elec_ext_rs_cut_ft_line_w8 -= np.mean(elec_ext_rs_cut_ft_line_w8)\n",
    "    elec_ext_rs_cut_ft_line_w8 /= np.std(elec_ext_rs_cut_ft_line_w8)\n",
    "\n",
    "    stim_us_cut_line_w8 = stim_us_line_w8[idx1_line_w8+1000:idx2_line_w8-1000]\n",
    "    intra_line_w8 = elec_ext_rs_cut_ft_line_w8[1000:-1000]\n",
    "    tbins_cut_line_w8 = tbins_line_w8[idx1_line_w8+1000:idx2_line_w8-1000]\n",
    "    rc_line_w8 = ft.revcorr(stim_us_cut_line_w8, intra_line_w8, us_factor_line_w8*15)[0]\n",
    "    stim_us_cut_line_w8 = stim_us_cut_line_w8.astype(int)\n",
    "    plt.imshow(rc_line_w8, cmap='seismic', vmin=-np.max(abs(rc_line_w8)), vmax=np.max(abs(rc_line_w8)), interpolation='nearest', aspect='auto')"
   ]
  },
  {
   "cell_type": "markdown",
   "metadata": {},
   "source": [
    "### 3-03. Load 'rf_5m' session"
   ]
  },
  {
   "cell_type": "code",
   "execution_count": 27,
   "metadata": {},
   "outputs": [
    {
     "data": {
      "image/png": "[encoded data removed]",
      "text/plain": [
       "<Figure size 216x360 with 2 Axes>"
      ]
     },
     "metadata": {
      "needs_background": "light"
     },
     "output_type": "display_data"
    }
   ],
   "source": [
    "if p['rf_5m'] == 1:\n",
    "    name_rf_5m = utils.file_name(p['exp_date'], p['retina_idx'], p['intracell_idx'], 'rf_5m')\n",
    "    pd_rf_5m = ext.photodiode(data_dir + p['exp_name'] + '/notforsort/' + name_rf_5m)\n",
    "    elec_rf_5m = ext.electrode(data_dir + p['exp_name'] + '/notforsort/' + name_rf_5m)\n",
    "\n",
    "    maxtab_rf_5m, _ = spk.peakdet(pd_rf_5m, p['rf_5m_th'])\n",
    "\n",
    "    us_factor_rf_5m = 4\n",
    "    elec_ext_rf_5m = ext.split_trial(elec_rf_5m, maxtab_rf_5m, \n",
    "                                     start=0, last=2, every=2, per=2, sample_rate=fs, mode='continuous')\n",
    "    tbins_rf_5m = np.linspace(0, elec_ext_rf_5m[0].shape[0]/fs, us_factor_rf_5m * 9000 + 1)[:-1]\n",
    "    stim_rf_5m = ext.load_stimulus('2d_st_bin_wn_w8', mode='mono', two_dim=True)[:9000, :, :]\n",
    "\n",
    "    stim_us_rf_5m = st.upsample(stim_rf_5m, us_factor_rf_5m)[0]\n",
    "    #stim_us_rf_5m -= np.mean(stim_us_rf_5m)\n",
    "    #stim_us_rf_5m /= np.std(stim_us_rf_5m)\n",
    "    stim_us_rf_5m -= 0.5\n",
    "    stim_us_rf_5m *= 2\n",
    "    elec_ext_rs_rf_5m = scipy.signal.resample(st.downsample(elec_ext_rf_5m[0], 10)[0], stim_us_rf_5m.shape[0])\n",
    "\n",
    "    idx1_rf_5m = p['idx1_rf_5m']\n",
    "    idx2_rf_5m = p['idx2_rf_5m']\n",
    "    elec_ext_rs_cut_rf_5m = elec_ext_rs_rf_5m[idx1_rf_5m:idx2_rf_5m]\n",
    "    elec_ext_rs_cut_ft_rf_5m = utils.butter_lowpass_filter(\n",
    "        utils.butter_highpass_filter(elec_ext_rs_cut_rf_5m, fs=us_factor_rf_5m*30.0), fs=us_factor_rf_5m*30.0)\n",
    "    elec_ext_rs_cut_ft_rf_5m -= np.mean(elec_ext_rs_cut_ft_rf_5m)\n",
    "    elec_ext_rs_cut_ft_rf_5m /= np.std(elec_ext_rs_cut_ft_rf_5m)\n",
    "\n",
    "    stim_us_cut_rf_5m = stim_us_rf_5m[idx1_rf_5m+1000:idx2_rf_5m-1000]\n",
    "    intra_rf_5m = elec_ext_rs_cut_ft_rf_5m[1000:-1000]\n",
    "    tbins_cut_rf_5m = tbins_rf_5m[idx1_rf_5m+1000:idx2_rf_5m-1000]\n",
    "    rc_rf_5m = ft.revcorr(stim_us_cut_rf_5m, intra_rf_5m, us_factor_rf_5m*15)[0]\n",
    "    stim_us_cut_rf_5m = stim_us_cut_rf_5m.astype(int)\n",
    "    rc_space_rf_5m, rc_time_rf_5m = ft.decompose(ft.smooth(rc_rf_5m, spacesig=0.7, timesig=1))\n",
    "    if np.max(rc_space_rf_5m) < -np.min(rc_space_rf_5m):\n",
    "        rc_space_rf_5m = -rc_space_rf_5m\n",
    "        rc_time_rf_5m = -rc_time_rf_5m\n",
    "    center_i, widths_i, theta_i = ft.get_ellipse(rc_space_rf_5m, sigma=1.0)\n",
    "    rc_ellipse_rf_5m = np.zeros((5,))\n",
    "    rc_ellipse_rf_5m[0] = center_i[0]\n",
    "    rc_ellipse_rf_5m[1] = center_i[1]\n",
    "    rc_ellipse_rf_5m[2] = widths_i[0]\n",
    "    rc_ellipse_rf_5m[3] = widths_i[1]\n",
    "    rc_ellipse_rf_5m[4] = theta_i\n",
    "\n",
    "    fig = plt.figure(figsize=(3, 5))\n",
    "    ax = plt.subplot(2, 1, 1)\n",
    "    plt.imshow(rc_space_rf_5m, cmap='seismic', vmin=-np.max(abs(rc_space_rf_5m)), vmax=np.max(abs(rc_space_rf_5m)), aspect='auto', interpolation='nearest')\n",
    "    ax = plt.subplot(2, 1, 2)\n",
    "    plt.plot(rc_time_rf_5m)\n",
    "else:\n",
    "    stim_us_cut_rf_5m = np.nan\n",
    "    intra_rf_5m = np.nan\n",
    "    tbins_cut_rf_5m = np.nan"
   ]
  },
  {
   "cell_type": "markdown",
   "metadata": {},
   "source": [
    "### 3-04. Load 'mb' session"
   ]
  },
  {
   "cell_type": "code",
   "execution_count": 28,
   "metadata": {},
   "outputs": [
    {
     "data": {
      "image/png": "[encoded data removed]",
      "text/plain": [
       "<Figure size 432x288 with 1 Axes>"
      ]
     },
     "metadata": {
      "needs_background": "light"
     },
     "output_type": "display_data"
    }
   ],
   "source": [
    "if p['mb'] == 1:\n",
    "    name_mb = utils.file_name(p['exp_date'], p['retina_idx'], p['intracell_idx'], 'mb')\n",
    "    pd_mb = ext.photodiode(data_dir + p['exp_name'] + '/notforsort/' + name_mb)\n",
    "    elec_mb = ext.electrode(data_dir + p['exp_name'] + '/notforsort/' + name_mb)\n",
    "\n",
    "    maxtab_mb, _ = spk.peakdet(pd_mb, p['mb_th'])\n",
    "\n",
    "    stim_mb = ext.load_stimulus_mb()\n",
    "    elec_ext_mb = ext.split_trial(elec_mb, maxtab_mb, \n",
    "                                  start=0, last=80, every=2, per=1, sample_rate=fs, mode='continuous')\n",
    "    tbins_mb = np.arange(0, 129 * fr, fr)\n",
    "\n",
    "    mb_lr_idx = np.outer(mb_idx, lr_idx).reshape(-1)\n",
    "    mb_rl_idx = np.outer(mb_idx, rl_idx).reshape(-1)\n",
    "    elec_ext_mb_lr = ext.list_to_array(elec_ext_mb, ndim=1)[:, :21500][mb_lr_idx == 1]\n",
    "    elec_ext_mb_rl = ext.list_to_array(elec_ext_mb, ndim=1)[:, :21500][mb_rl_idx == 1]\n",
    "\n",
    "    intra_mb = np.stack([elec_ext_mb_lr, elec_ext_mb_rl])\n",
    "\n",
    "    plt.plot(np.nanmean(elec_ext_mb_lr, axis=0))\n",
    "else:\n",
    "    stim_mb = np.nan\n",
    "    intra_mb = np.nan\n",
    "    tbins_mb = np.nan"
   ]
  },
  {
   "cell_type": "markdown",
   "metadata": {},
   "source": [
    "### 3-05. Load 'flash_2' session"
   ]
  },
  {
   "cell_type": "code",
   "execution_count": 29,
   "metadata": {},
   "outputs": [],
   "source": [
    "if p['flash_2'] == 1:\n",
    "    name_flash_2 = utils.file_name(p['exp_date'], p['retina_idx'], p['intracell_idx'], 'flash_2')\n",
    "    pd_flash_2 = ext.photodiode(data_dir + p['exp_name'] + '/notforsort/' + name_flash_2)\n",
    "    elec_flash_2 = ext.electrode(data_dir + p['exp_name'] + '/notforsort/' + name_flash_2)\n",
    "\n",
    "    maxtab_flash_2, _ = spk.peakdet(pd_flash_2, p['flash_2_th'])\n",
    "\n",
    "    elec_ext_flash_2 = ext.split_trial(elec_flash_2, maxtab_flash_2, \n",
    "                                       start=0, last=20, every=2, per=2, sample_rate=fs, mode='continuous')\n",
    "    tbins_flash_2 = np.arange(0, 122 * fr, fr)\n",
    "    stim_flash_2 = np.concatenate((np.ones(61), np.zeros(61)))\n",
    "    intra_flash_2 = ext.list_to_array(elec_ext_flash_2, ndim=1)\n",
    "\n",
    "    plt.plot(np.nanmean(utils.butter_highpass_filter(ext.list_to_array(elec_ext_flash_2, ndim=1)), axis=0) + \n",
    "             np.nanmean(ext.list_to_array(elec_ext_flash_2, ndim=1)))\n",
    "else:\n",
    "    stim_flash_2 = np.nan\n",
    "    intra_flash_2 = np.nan\n",
    "    tbins_flash_2 = np.nan"
   ]
  },
  {
   "cell_type": "markdown",
   "metadata": {},
   "source": [
    "## 4. Injected current (analog output)"
   ]
  },
  {
   "cell_type": "markdown",
   "metadata": {},
   "source": [
    "### 4-01. Load 'mb_ad_ao' session"
   ]
  },
  {
   "cell_type": "code",
   "execution_count": 30,
   "metadata": {},
   "outputs": [],
   "source": [
    "if p['mb_ad_ao'] == 1:\n",
    "    name_mb_ad_ao = '-'.join(['c' + str(p['intracell_idx']), 'mb-ad-ao.h5'])\n",
    "    with h5py.File(data_dir + p['exp_name'] + '/notforsort/' + name_mb_ad_ao, 'r') as f_mb_ad_ao:\n",
    "        inj_mb_ad_ao = np.double(f_mb_ad_ao['analog-output'])\n",
    "\n",
    "    if p['mb_4ad'] == 1:\n",
    "        maxtab_mb_ad_ao = maxtab_mb_4ad\n",
    "    elif p['mb_2ad'] == 1:\n",
    "        maxtab_mb_ad_ao = maxtab_mb_2ad\n",
    "    elif p['mb_ad'] == 1:\n",
    "        maxtab_mb_ad_ao = maxtab_mb_ad\n",
    "    else:\n",
    "        print(\"No maxtab to use as reference!\")\n",
    "\n",
    "    N_inj_mb_ad_ao = maxtab_mb_ad_ao.shape[0]\n",
    "    inj_ext_mb_ad_ao = ext.split_trial(inj_mb_ad_ao, maxtab_mb_ad_ao, \n",
    "                                       start=0, last=N_inj_mb_ad_ao, every=2, per=1, \n",
    "                                       sample_rate=fs, mode='continuous')\n",
    "    tbins_mb_ad_ao = np.arange(0, 129 * fr, fr)\n",
    "\n",
    "    mb_ad_ao_con_lr_idx = np.outer(con_idx, lr_idx).reshape(-1)\n",
    "    mb_ad_ao_amp_lr_idx = np.outer(pb1_idx, lr_idx).reshape(-1)\n",
    "    mb_ad_ao_dim_lr_idx = np.outer(pb2_idx, lr_idx).reshape(-1)\n",
    "    mb_ad_ao_con_rl_idx = np.outer(con_idx, rl_idx).reshape(-1)\n",
    "    mb_ad_ao_amp_rl_idx = np.outer(pb1_idx, rl_idx).reshape(-1)\n",
    "    mb_ad_ao_dim_rl_idx = np.outer(pb2_idx, rl_idx).reshape(-1)\n",
    "    inj_ext_mb_ad_ao_con_lr = ext.list_to_array(inj_ext_mb_ad_ao, ndim=1)[:, :21500][mb_ad_ao_con_lr_idx == 1]\n",
    "    inj_ext_mb_ad_ao_amp_lr = ext.list_to_array(inj_ext_mb_ad_ao, ndim=1)[:, :21500][mb_ad_ao_amp_lr_idx == 1]\n",
    "    inj_ext_mb_ad_ao_dim_lr = ext.list_to_array(inj_ext_mb_ad_ao, ndim=1)[:, :21500][mb_ad_ao_dim_lr_idx == 1]\n",
    "    inj_ext_mb_ad_ao_con_rl = ext.list_to_array(inj_ext_mb_ad_ao, ndim=1)[:, :21500][mb_ad_ao_con_rl_idx == 1]\n",
    "    inj_ext_mb_ad_ao_amp_rl = ext.list_to_array(inj_ext_mb_ad_ao, ndim=1)[:, :21500][mb_ad_ao_amp_rl_idx == 1]\n",
    "    inj_ext_mb_ad_ao_dim_rl = ext.list_to_array(inj_ext_mb_ad_ao, ndim=1)[:, :21500][mb_ad_ao_dim_rl_idx == 1]\n",
    "\n",
    "    if p['exp_version'] == 1:\n",
    "        inj_total_mb_ad_ao = np.stack(\n",
    "            [np.stack([np.vstack([inj_ext_mb_ad_ao_con_lr, np.full(inj_ext_mb_ad_ao_con_lr.shape, np.nan)]),\n",
    "                        inj_ext_mb_ad_ao_amp_lr, inj_ext_mb_ad_ao_dim_lr], axis=0),\n",
    "             np.stack([np.vstack([inj_ext_mb_ad_ao_con_rl, np.full(inj_ext_mb_ad_ao_con_rl.shape, np.nan)]), \n",
    "                        inj_ext_mb_ad_ao_amp_rl, inj_ext_mb_ad_ao_dim_rl], axis=0)], axis=0)\n",
    "    else:\n",
    "        inj_total_mb_ad_ao = np.stack(\n",
    "            [np.stack([inj_ext_mb_ad_ao_con_lr, inj_ext_mb_ad_ao_amp_lr, inj_ext_mb_ad_ao_dim_lr], axis=0),\n",
    "             np.stack([inj_ext_mb_ad_ao_con_rl, inj_ext_mb_ad_ao_amp_rl, inj_ext_mb_ad_ao_dim_rl], axis=0)], axis=0)\n",
    "else:\n",
    "    inj_total_mb_ad_ao = np.nan\n",
    "    tbins_mb_ad_ao = np.nan"
   ]
  },
  {
   "cell_type": "markdown",
   "metadata": {},
   "source": [
    "### 4-02. Load 'wn_500_ao' session"
   ]
  },
  {
   "cell_type": "code",
   "execution_count": 31,
   "metadata": {},
   "outputs": [],
   "source": [
    "if p['rf_wn'] == 1:\n",
    "    with h5py.File(proj_dir + 'matrix/wn-500-ao.h5', 'r') as f_wn_500_ao:\n",
    "        inj_rf_wn = np.double(f_wn_500_ao['analog-output'])\n",
    "\n",
    "    inj_ext_rf_wn = ext.split_trial(inj_rf_wn, maxtab_rf_wn, \n",
    "                                    start=0, last=2, every=2, per=2, sample_rate=fs, mode='continuous')\n",
    "    inj_ext_rs_rf_wn = scipy.signal.resample(st.downsample(inj_ext_rf_wn[0], 10)[0], stim_us_rf_wn.shape[0])"
   ]
  },
  {
   "cell_type": "markdown",
   "metadata": {},
   "source": [
    "## 5. Check sign of injected current"
   ]
  },
  {
   "cell_type": "code",
   "execution_count": 32,
   "metadata": {},
   "outputs": [
    {
     "data": {
      "image/png": "[encoded data removed]",
      "text/plain": [
       "<Figure size 432x288 with 1 Axes>"
      ]
     },
     "metadata": {
      "needs_background": "light"
     },
     "output_type": "display_data"
    }
   ],
   "source": [
    "if p['mb_ad'] == 1:\n",
    "    plt.plot(10*elec_ext_mb_ad[0], 'k')\n",
    "    plt.plot(elec_ext_mb_ad[8], 'r')\n",
    "    plt.plot(100*inj_ext_mb_ad_ao_amp_lr[0], 'g')\n",
    "else:\n",
    "    print(1)"
   ]
  },
  {
   "cell_type": "code",
   "execution_count": 33,
   "metadata": {},
   "outputs": [
    {
     "name": "stdout",
     "output_type": "stream",
     "text": [
      "1\n"
     ]
    }
   ],
   "source": [
    "if p['mb_2ad'] == 1:\n",
    "    plt.plot(10*elec_ext_mb_2ad[0], 'k')\n",
    "    plt.plot(elec_ext_mb_2ad[8], 'r')\n",
    "    plt.plot(100*inj_ext_mb_ad_ao_amp_lr[0], 'g')\n",
    "else:\n",
    "    print(1)"
   ]
  },
  {
   "cell_type": "code",
   "execution_count": 34,
   "metadata": {},
   "outputs": [
    {
     "name": "stdout",
     "output_type": "stream",
     "text": [
      "1\n"
     ]
    }
   ],
   "source": [
    "if p['mb_4ad'] == 1:\n",
    "    plt.plot(10*elec_ext_mb_4ad[0], 'k')\n",
    "    plt.plot(elec_ext_mb_4ad[8], 'r')\n",
    "    plt.plot(100*inj_ext_mb_ad_ao_amp_lr[0], 'g')\n",
    "else:\n",
    "    print(1)"
   ]
  },
  {
   "cell_type": "markdown",
   "metadata": {},
   "source": [
    "## 6. Save as new .h5 file"
   ]
  },
  {
   "cell_type": "code",
   "execution_count": 85,
   "metadata": {},
   "outputs": [],
   "source": [
    "if SAVE_TO_HDF5 == 1:\n",
    "    with h5py.File(proj_dir + 'data-extract/' + config['sort_version'] + '/' + p['exp_name'] + '_extract'+ '.h5', 'w') as f:\n",
    "        #f.create_dataset('sort/', data=np.array([]))\n",
    "        f.create_dataset('sort/flash_1/stim', data=stim_flash_1)\n",
    "        f.create_dataset('sort/flash_1/ganglion', data=bspk_flash_1)\n",
    "        f.create_dataset('sort/flash_1/intracell', data=intra_flash_1)\n",
    "        f.create_dataset('sort/flash_1/tbins', data=tbins_flash_1)      # 10000.0 Hz\n",
    "        \n",
    "        f.create_dataset('sort/rf_wn/stim', data=stim_us_rf_wn)\n",
    "        f.create_dataset('sort/rf_wn/ganglion', data=bspk_rf_wn)\n",
    "        f.create_dataset('sort/rf_wn/intracell', data=inj_ext_rs_rf_wn) # inject\n",
    "        f.create_dataset('sort/rf_wn/tbins', data=tbins_rf_wn)\n",
    "        \n",
    "        f.create_dataset('sort/mb_ns/stim', data=np.nan)\n",
    "        f.create_dataset('sort/mb_ns/ganglion', data=bspk_total_mb_ns)\n",
    "        f.create_dataset('sort/mb_ns/intracell', data=np.nan)           # inject (mb_ad_ns)\n",
    "        f.create_dataset('sort/mb_ns/tbins', data=tbins_mb_ns)\n",
    "        \n",
    "        f.create_dataset('sort/mb_ad/stim', data=stim_mb)\n",
    "        f.create_dataset('sort/mb_ad/ganglion', data=bspk_total_mb_ad)\n",
    "        f.create_dataset('sort/mb_ad/intracell', data=np.nan)           # inject (mb_ad_ao)\n",
    "        f.create_dataset('sort/mb_ad/tbins', data=tbins_mb_ad)\n",
    "        \n",
    "        f.create_dataset('sort/mb_da/stim', data=stim_mb)\n",
    "        f.create_dataset('sort/mb_da/ganglion', data=bspk_total_mb_da)\n",
    "        f.create_dataset('sort/mb_da/intracell', data=np.nan)           # inject (mb_da_ao)\n",
    "        f.create_dataset('sort/mb_da/tbins', data=tbins_mb_da)\n",
    "                         \n",
    "        f.create_dataset('sort/mb_2ad/stim', data=stim_mb)\n",
    "        f.create_dataset('sort/mb_2ad/ganglion', data=bspk_total_mb_2ad)\n",
    "        f.create_dataset('sort/mb_2ad/intracell', data=np.nan)          # inject (mb_2ad_ao)\n",
    "        f.create_dataset('sort/mb_2ad/tbins', data=tbins_mb_2ad)\n",
    "        \n",
    "        f.create_dataset('sort/mb_4ad/stim', data=stim_mb)\n",
    "        f.create_dataset('sort/mb_4ad/ganglion', data=bspk_total_mb_4ad)\n",
    "        f.create_dataset('sort/mb_4ad/intracell', data=np.nan)          # inject (mb_4ad_ao)\n",
    "        f.create_dataset('sort/mb_4ad/tbins', data=tbins_mb_4ad)\n",
    "        \n",
    "        f.create_dataset('sort/mb_2da/stim', data=stim_mb)\n",
    "        f.create_dataset('sort/mb_2da/ganglion', data=bspk_total_mb_2da)\n",
    "        f.create_dataset('sort/mb_2da/intracell', data=np.nan)          # inject (mb_2da_ao)\n",
    "        f.create_dataset('sort/mb_2da/tbins', data=tbins_mb_2da)\n",
    "        \n",
    "        f.create_dataset('sort/mb_4da/stim', data=stim_mb)\n",
    "        f.create_dataset('sort/mb_4da/ganglion', data=bspk_total_mb_4da)\n",
    "        f.create_dataset('sort/mb_4da/intracell', data=np.nan)          # inject (mb_4da_ao)\n",
    "        f.create_dataset('sort/mb_4da/tbins', data=tbins_mb_4da)\n",
    "        \n",
    "        f.create_dataset('sort/rf_30m/stim', data=stim_us_rf_30m, dtype='i')\n",
    "        f.create_dataset('sort/rf_30m/ganglion', data=bspk_rf_30m)\n",
    "        f.create_dataset('sort/rf_30m/intracell', data=np.nan)\n",
    "        f.create_dataset('sort/rf_30m/tbins', data=tbins_rf_30m)\n",
    "        \n",
    "        #f.create_dataset('unsort/', data=np.array([]))\n",
    "        if p['line_w4'] == 1:\n",
    "            f.create_dataset('unsort/line/stim', data=stim_us_cut_line_w4, dtype='i')\n",
    "            f.create_dataset('unsort/line/ganglion', data=np.nan)\n",
    "            f.create_dataset('unsort/line/intracell', data=intra_line_w4)\n",
    "            f.create_dataset('unsort/line/tbins', data=tbins_cut_line_w4)\n",
    "        elif p['line_w8'] == 1:\n",
    "            f.create_dataset('unsort/line/stim', data=stim_us_cut_line_w8, dtype='i')\n",
    "            f.create_dataset('unsort/line/ganglion', data=np.nan)\n",
    "            f.create_dataset('unsort/line/intracell', data=intra_line_w8)\n",
    "            f.create_dataset('unsort/line/tbins', data=tbins_cut_line_w8)\n",
    "        \n",
    "        f.create_dataset('unsort/rf_5m/stim', data=stim_us_cut_rf_5m, dtype='i')\n",
    "        f.create_dataset('unsort/rf_5m/ganglion', data=np.nan)\n",
    "        f.create_dataset('unsort/rf_5m/intracell', data=intra_rf_5m)\n",
    "        f.create_dataset('unsort/rf_5m/tbins', data=tbins_cut_rf_5m)\n",
    "        \n",
    "        f.create_dataset('unsort/mb/stim', data=stim_mb)\n",
    "        f.create_dataset('unsort/mb/ganglion', data=np.nan)\n",
    "        f.create_dataset('unsort/mb/intracell', data=intra_mb)\n",
    "        f.create_dataset('unsort/mb/tbins', data=tbins_mb)\n",
    "        \n",
    "        f.create_dataset('unsort/flash_2/stim', data=stim_flash_2)\n",
    "        f.create_dataset('unsort/flash_2/ganglion', data=np.nan)\n",
    "        f.create_dataset('unsort/flash_2/intracell', data=intra_flash_2)\n",
    "        f.create_dataset('unsort/flash_2/tbins', data=tbins_flash_2) # 10000.0 Hz\n",
    "        \n",
    "        #f.create_dataset('etc/', data=np.array([]))\n",
    "        f.create_dataset('etc/mb_ad_ao/stim', data=stim_mb)\n",
    "        f.create_dataset('etc/mb_ad_ao/ganglion', data=np.nan)\n",
    "        f.create_dataset('etc/mb_ad_ao/intracell', data=inj_total_mb_ad_ao)\n",
    "        f.create_dataset('etc/mb_ad_ao/tbins', data=tbins_mb_ad_ao)\n",
    "        \n",
    "        #f.create_dataset('rf/', data=np.array([]))\n",
    "        f.create_dataset('rf/ganglion/st', data=np.stack(stas_rf_30m))\n",
    "        f.create_dataset('rf/ganglion/space', data=stas_space_rf_30m)\n",
    "        f.create_dataset('rf/ganglion/time', data=stas_time_rf_30m)\n",
    "        f.create_dataset('rf/ganglion/ellipse', data=stas_ellipse_rf_30m)\n",
    "        \n",
    "        f.create_dataset('rf/intracell/st', data=rc_rf_5m)\n",
    "        if p['line_w4'] == 1:\n",
    "            f.create_dataset('rf/intracell/line', data=rc_line_w4)\n",
    "        elif p['line_w8'] == 1:\n",
    "            f.create_dataset('rf/intracell/line', data=rc_line_w8)\n",
    "        f.create_dataset('rf/intracell/space', data=rc_space_rf_5m)\n",
    "        f.create_dataset('rf/intracell/time', data=rc_time_rf_5m)\n",
    "        f.create_dataset('rf/intracell/ellipse', data=rc_ellipse_rf_5m)"
   ]
  },
  {
   "cell_type": "code",
   "execution_count": 86,
   "metadata": {},
   "outputs": [],
   "source": [
    "if SAVE_SPIKES_TO_PICKLE == 1:\n",
    "    pickle.dump(spikes_ext_mb_ad, open(proj_dir + 'data-extract/' + config['sort_version'] + '/' + p['exp_name'] + '_extract_spikes_mb_ad'+ '.p', 'wb'))"
   ]
  },
  {
   "cell_type": "markdown",
   "metadata": {},
   "source": [
    "#### "
   ]
  }
 ],
 "metadata": {
  "kernelspec": {
   "display_name": "Python 3 (ipykernel)",
   "language": "python",
   "name": "python3"
  },
  "language_info": {
   "codemirror_mode": {
    "name": "ipython",
    "version": 3
   },
   "file_extension": ".py",
   "mimetype": "text/x-python",
   "name": "python",
   "nbconvert_exporter": "python",
   "pygments_lexer": "ipython3",
   "version": "3.8.12"
  }
 },
 "nbformat": 4,
 "nbformat_minor": 4
}
